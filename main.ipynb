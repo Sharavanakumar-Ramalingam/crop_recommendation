{
 "cells": [
  {
   "cell_type": "code",
   "execution_count": 2,
   "metadata": {},
   "outputs": [],
   "source": [
    "import pandas as pd\n",
    "import numpy as np"
   ]
  },
  {
   "cell_type": "code",
   "execution_count": 3,
   "metadata": {},
   "outputs": [],
   "source": [
    "from sklearn.svm import SVC"
   ]
  },
  {
   "cell_type": "code",
   "execution_count": 4,
   "metadata": {},
   "outputs": [],
   "source": [
    "from sklearn.metrics import  accuracy_score\n",
    "from sklearn.model_selection import train_test_split"
   ]
  },
  {
   "cell_type": "code",
   "execution_count": 5,
   "metadata": {},
   "outputs": [],
   "source": [
    "df = pd.read_csv(fr\"C:\\Users\\sharavana Kumar\\Desktop\\crop_data.csv\")"
   ]
  },
  {
   "cell_type": "code",
   "execution_count": 6,
   "metadata": {},
   "outputs": [
    {
     "data": {
      "text/html": [
       "<div>\n",
       "<style scoped>\n",
       "    .dataframe tbody tr th:only-of-type {\n",
       "        vertical-align: middle;\n",
       "    }\n",
       "\n",
       "    .dataframe tbody tr th {\n",
       "        vertical-align: top;\n",
       "    }\n",
       "\n",
       "    .dataframe thead th {\n",
       "        text-align: right;\n",
       "    }\n",
       "</style>\n",
       "<table border=\"1\" class=\"dataframe\">\n",
       "  <thead>\n",
       "    <tr style=\"text-align: right;\">\n",
       "      <th></th>\n",
       "      <th>STATE</th>\n",
       "      <th>SOIL_TYPE</th>\n",
       "      <th>N_SOIL</th>\n",
       "      <th>P_SOIL</th>\n",
       "      <th>K_SOIL</th>\n",
       "      <th>TEMPERATURE</th>\n",
       "      <th>HUMIDITY</th>\n",
       "      <th>ph</th>\n",
       "      <th>RAINFALL</th>\n",
       "      <th>CROP_PRICE</th>\n",
       "      <th>CROP</th>\n",
       "    </tr>\n",
       "  </thead>\n",
       "  <tbody>\n",
       "    <tr>\n",
       "      <th>0</th>\n",
       "      <td>Andaman and Nicobar</td>\n",
       "      <td>Sandy soil</td>\n",
       "      <td>90</td>\n",
       "      <td>42</td>\n",
       "      <td>43</td>\n",
       "      <td>20.879744</td>\n",
       "      <td>82.002744</td>\n",
       "      <td>6.502985</td>\n",
       "      <td>202.935536</td>\n",
       "      <td>7000</td>\n",
       "      <td>Amaranthus</td>\n",
       "    </tr>\n",
       "    <tr>\n",
       "      <th>1</th>\n",
       "      <td>Andaman and Nicobar</td>\n",
       "      <td>Sandy soil</td>\n",
       "      <td>85</td>\n",
       "      <td>58</td>\n",
       "      <td>41</td>\n",
       "      <td>21.770462</td>\n",
       "      <td>80.319644</td>\n",
       "      <td>7.038096</td>\n",
       "      <td>226.655537</td>\n",
       "      <td>5000</td>\n",
       "      <td>Green Banana</td>\n",
       "    </tr>\n",
       "    <tr>\n",
       "      <th>2</th>\n",
       "      <td>Andaman and Nicobar</td>\n",
       "      <td>Sandy soil</td>\n",
       "      <td>60</td>\n",
       "      <td>55</td>\n",
       "      <td>44</td>\n",
       "      <td>23.004459</td>\n",
       "      <td>82.320763</td>\n",
       "      <td>7.840207</td>\n",
       "      <td>263.964248</td>\n",
       "      <td>7000</td>\n",
       "      <td>Ladies Finger</td>\n",
       "    </tr>\n",
       "    <tr>\n",
       "      <th>3</th>\n",
       "      <td>Andaman and Nicobar</td>\n",
       "      <td>Sandy soil</td>\n",
       "      <td>74</td>\n",
       "      <td>35</td>\n",
       "      <td>40</td>\n",
       "      <td>26.491096</td>\n",
       "      <td>80.158363</td>\n",
       "      <td>6.980401</td>\n",
       "      <td>242.864034</td>\n",
       "      <td>7000</td>\n",
       "      <td>Bitter Gourd</td>\n",
       "    </tr>\n",
       "    <tr>\n",
       "      <th>4</th>\n",
       "      <td>Andaman and Nicobar</td>\n",
       "      <td>Sandy soil</td>\n",
       "      <td>78</td>\n",
       "      <td>42</td>\n",
       "      <td>42</td>\n",
       "      <td>20.130175</td>\n",
       "      <td>81.604873</td>\n",
       "      <td>7.628473</td>\n",
       "      <td>262.717340</td>\n",
       "      <td>120000</td>\n",
       "      <td>Black pepper</td>\n",
       "    </tr>\n",
       "  </tbody>\n",
       "</table>\n",
       "</div>"
      ],
      "text/plain": [
       "                 STATE   SOIL_TYPE  N_SOIL  P_SOIL  K_SOIL  TEMPERATURE  \\\n",
       "0  Andaman and Nicobar  Sandy soil      90      42      43    20.879744   \n",
       "1  Andaman and Nicobar  Sandy soil      85      58      41    21.770462   \n",
       "2  Andaman and Nicobar  Sandy soil      60      55      44    23.004459   \n",
       "3  Andaman and Nicobar  Sandy soil      74      35      40    26.491096   \n",
       "4  Andaman and Nicobar  Sandy soil      78      42      42    20.130175   \n",
       "\n",
       "    HUMIDITY        ph    RAINFALL  CROP_PRICE           CROP  \n",
       "0  82.002744  6.502985  202.935536        7000     Amaranthus  \n",
       "1  80.319644  7.038096  226.655537        5000   Green Banana  \n",
       "2  82.320763  7.840207  263.964248        7000  Ladies Finger  \n",
       "3  80.158363  6.980401  242.864034        7000   Bitter Gourd  \n",
       "4  81.604873  7.628473  262.717340      120000   Black pepper  "
      ]
     },
     "execution_count": 6,
     "metadata": {},
     "output_type": "execute_result"
    }
   ],
   "source": [
    "df.head()"
   ]
  },
  {
   "cell_type": "code",
   "execution_count": 7,
   "metadata": {},
   "outputs": [
    {
     "data": {
      "text/plain": [
       "Index(['STATE', 'SOIL_TYPE', 'N_SOIL', 'P_SOIL', 'K_SOIL', 'TEMPERATURE',\n",
       "       'HUMIDITY', 'ph', 'RAINFALL', 'CROP_PRICE', 'CROP'],\n",
       "      dtype='object')"
      ]
     },
     "execution_count": 7,
     "metadata": {},
     "output_type": "execute_result"
    }
   ],
   "source": [
    "df.columns"
   ]
  },
  {
   "cell_type": "code",
   "execution_count": 8,
   "metadata": {},
   "outputs": [],
   "source": [
    "X = df[['N_SOIL', 'P_SOIL', 'K_SOIL', 'TEMPERATURE', 'HUMIDITY', 'ph', 'RAINFALL']]\n",
    "y = df['CROP','CROP_PRICE']"
   ]
  },
  {
   "cell_type": "code",
   "execution_count": 9,
   "metadata": {},
   "outputs": [],
   "source": [
    "X_train, X_test, y_train, y_test = train_test_split(X, y, test_size=0.2)"
   ]
  },
  {
   "cell_type": "code",
   "execution_count": 10,
   "metadata": {},
   "outputs": [],
   "source": [
    "from sklearn.svm import SVC\n",
    "model = SVC(kernel='linear').fit(X_train, y_train)"
   ]
  },
  {
   "cell_type": "code",
   "execution_count": 11,
   "metadata": {},
   "outputs": [],
   "source": [
    "y_pred = model.predict(X_test)"
   ]
  },
  {
   "cell_type": "code",
   "execution_count": 12,
   "metadata": {},
   "outputs": [
    {
     "name": "stdout",
     "output_type": "stream",
     "text": [
      "Accuracy: 0.05227272727272727\n"
     ]
    }
   ],
   "source": [
    "accuracy = accuracy_score(y_test, y_pred)\n",
    "print(\"Accuracy:\", accuracy)"
   ]
  },
  {
   "cell_type": "code",
   "execution_count": 13,
   "metadata": {},
   "outputs": [
    {
     "name": "stdout",
     "output_type": "stream",
     "text": [
      "The best suited crop for the given conditions is: ['Carrot']\n"
     ]
    },
    {
     "name": "stderr",
     "output_type": "stream",
     "text": [
      "C:\\Users\\sharavana Kumar\\anaconda3\\Lib\\site-packages\\sklearn\\base.py:439: UserWarning: X does not have valid feature names, but SVC was fitted with feature names\n",
      "  warnings.warn(\n"
     ]
    }
   ],
   "source": [
    "x=model.predict([[90,85,35,22.30157427,70.64416466,7.043304899,202.9791215]])\n",
    "print(\"The best suited crop for the given conditions is:\",x)"
   ]
  },
  {
   "cell_type": "code",
   "execution_count": 5,
   "metadata": {
    "scrolled": true
   },
   "outputs": [
    {
     "name": "stdout",
     "output_type": "stream",
     "text": [
      "Running on local URL:  http://127.0.0.1:7860\n",
      "\n",
      "To create a public link, set `share=True` in `launch()`.\n"
     ]
    },
    {
     "data": {
      "text/html": [
       "<div><iframe src=\"http://127.0.0.1:7860/\" width=\"100%\" height=\"500\" allow=\"autoplay; camera; microphone; clipboard-read; clipboard-write;\" frameborder=\"0\" allowfullscreen></iframe></div>"
      ],
      "text/plain": [
       "<IPython.core.display.HTML object>"
      ]
     },
     "metadata": {},
     "output_type": "display_data"
    },
    {
     "name": "stdout",
     "output_type": "stream",
     "text": [
      "Running on local URL:  http://127.0.0.1:7861\n",
      "\n",
      "To create a public link, set `share=True` in `launch()`.\n"
     ]
    },
    {
     "data": {
      "text/html": [
       "<div><iframe src=\"http://127.0.0.1:7861/\" width=\"100%\" height=\"500\" allow=\"autoplay; camera; microphone; clipboard-read; clipboard-write;\" frameborder=\"0\" allowfullscreen></iframe></div>"
      ],
      "text/plain": [
       "<IPython.core.display.HTML object>"
      ]
     },
     "metadata": {},
     "output_type": "display_data"
    }
   ],
   "source": [
    "import gradio as gr\n",
    "import requests\n",
    "\n",
    "def weather_api(location):\n",
    "    api_key = \"d0a2301b1066be60a90b946462380bab\"\n",
    "    base_url = \"http://api.openweathermap.org/data/2.5/weather?\"\n",
    "    \n",
    "    complete_url = base_url + \"appid=\" + api_key + \"&q=\" + location\n",
    "    \n",
    "    response = requests.get(complete_url)\n",
    "    x = response.json()\n",
    "    \n",
    "    if x[\"cod\"] != \"404\":\n",
    "        y = x[\"main\"]\n",
    "        current_temperature = y[\"temp\"]\n",
    "        current_pressure = y[\"pressure\"]\n",
    "        current_humidity = y[\"humidity\"]\n",
    "        z = x[\"weather\"]\n",
    "        weather_description = z[0][\"description\"]\n",
    "        \n",
    "        weather_data = {\n",
    "            \"temperature\": current_temperature - 273.15,  # converting to Celsius\n",
    "            \"pressure\": current_pressure,\n",
    "            \"humidity\": current_humidity,\n",
    "            \"description\": weather_description\n",
    "        }\n",
    "        \n",
    "        return weather_data\n",
    "    else:\n",
    "        return {\"error\": \"City Not Found\"}\n",
    "\n",
    "def weather_interface(location):\n",
    "    weather_info = weather_api(location)\n",
    "    if \"error\" in weather_info:\n",
    "        return \"Error: City Not Found\"\n",
    "    else:\n",
    "        weather_output = f\"Weather Info:\\nTemperature: {weather_info['temperature']} °C\\nPressure: {weather_info['pressure']} hPa\\nHumidity: {weather_info['humidity']}%\\nDescription: {weather_info['description']}\"\n",
    "        return weather_output\n",
    "\n",
    "def crop_recommendation(n_soil, p_soil, k_soil, temperature, humidity, ph, rainfall):\n",
    "    # Placeholder function for crop recommendation\n",
    "    # Implement your crop recommendation logic here\n",
    "    return \"Crop recommendation based on provided data\"\n",
    "\n",
    "def crop_recommendation_interface(location, n_soil, p_soil, k_soil, temperature, humidity, ph, rainfall):\n",
    "    crop_recommendation_text = crop_recommendation(n_soil, p_soil, k_soil, temperature, humidity, ph, rainfall)\n",
    "    return crop_recommendation_text\n",
    "\n",
    "location = gr.Textbox(label=\"Enter the location:\")\n",
    "\n",
    "output_weather = gr.Textbox(label=\"Weather Info:\", type=\"text\")\n",
    "output_crop = gr.Textbox(label=\"Predicted crop:\", type=\"text\")\n",
    "\n",
    "weather_app = gr.Interface(\n",
    "    fn=weather_interface,\n",
    "    inputs=location,\n",
    "    outputs=output_weather,\n",
    "    title=\"Weather Information\"\n",
    ")\n",
    "\n",
    "crop_recommendation_app = gr.Interface(\n",
    "    fn=crop_recommendation_interface,\n",
    "    inputs=[location, gr.Textbox(label=\"Enter the nitrogen value:\"), gr.Textbox(label=\"Enter the phosphorus value:\"), gr.Textbox(label=\"Enter the potassium value:\"), gr.Textbox(label=\"Enter the Temperature value:\"), gr.Textbox(label=\"Enter the humidity value:\"), gr.Textbox(label=\"Enter the PH value:\"), gr.Textbox(label=\"Enter the rainfall value:\")],\n",
    "    outputs=output_crop,\n",
    "    title=\"Crop Recommendation\"\n",
    ")\n",
    "\n",
    "weather_info = weather_app.launch()\n",
    "\n",
    "# If the weather information is displayed, launch the crop recommendation interface\n",
    "if weather_info:\n",
    "    crop_recommendation_app.launch()\n"
   ]
  }
 ],
 "metadata": {
  "kernelspec": {
   "display_name": "Python 3 (ipykernel)",
   "language": "python",
   "name": "python3"
  },
  "language_info": {
   "codemirror_mode": {
    "name": "ipython",
    "version": 3
   },
   "file_extension": ".py",
   "mimetype": "text/x-python",
   "name": "python",
   "nbconvert_exporter": "python",
   "pygments_lexer": "ipython3",
   "version": "3.11.7"
  }
 },
 "nbformat": 4,
 "nbformat_minor": 4
}
